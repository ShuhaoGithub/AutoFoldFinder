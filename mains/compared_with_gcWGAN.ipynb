{
 "cells": [
  {
   "cell_type": "code",
   "execution_count": 39,
   "metadata": {},
   "outputs": [
    {
     "name": "stdout",
     "output_type": "stream",
     "text": [
      "For_Diversity_and_Novelty/gcWGAN_Fasta_100_success_c_94\n"
     ]
    }
   ],
   "source": [
    "import pandas as pd\n",
    "import os\n",
    "from Bio import SeqIO\n",
    "# files = os.listdir('For_Diversity_and_Novelty')\n",
    "# print(files)\n",
    "# for file in files:\n",
    "meta=[]\n",
    "sequence=[]\n",
    "file = 'gcWGAN_Fasta_100_success_c_94'\n",
    "seq = ('For_Diversity_and_Novelty/'+file)\n",
    "print(seq)\n",
    "for seq_record in SeqIO.parse(seq, \"fasta\"):\n",
    "    meta.append(str(seq_record.id))\n",
    "    sequence.append(str(seq_record.seq))\n",
    "\n",
    "df = pd.DataFrame(data ={'Meta':meta,'SequenceID':sequence})\n",
    "df.to_csv('For_Diversity_and_Novelty/'+file+'.csv')"
   ]
  },
  {
   "cell_type": "code",
   "execution_count": 153,
   "metadata": {},
   "outputs": [
    {
     "name": "stderr",
     "output_type": "stream",
     "text": [
      "/usr/local/lib/python3.6/dist-packages/ipykernel_launcher.py:23: SettingWithCopyWarning: \n",
      "A value is trying to be set on a copy of a slice from a DataFrame\n",
      "\n",
      "See the caveats in the documentation: https://pandas.pydata.org/pandas-docs/stable/user_guide/indexing.html#returning-a-view-versus-a-copy\n",
      "/usr/local/lib/python3.6/dist-packages/ipykernel_launcher.py:24: SettingWithCopyWarning: \n",
      "A value is trying to be set on a copy of a slice from a DataFrame\n",
      "\n",
      "See the caveats in the documentation: https://pandas.pydata.org/pandas-docs/stable/user_guide/indexing.html#returning-a-view-versus-a-copy\n",
      "/usr/local/lib/python3.6/dist-packages/ipykernel_launcher.py:25: SettingWithCopyWarning: \n",
      "A value is trying to be set on a copy of a slice from a DataFrame\n",
      "\n",
      "See the caveats in the documentation: https://pandas.pydata.org/pandas-docs/stable/user_guide/indexing.html#returning-a-view-versus-a-copy\n",
      "/usr/local/lib/python3.6/dist-packages/ipykernel_launcher.py:26: SettingWithCopyWarning: \n",
      "A value is trying to be set on a copy of a slice from a DataFrame\n",
      "\n",
      "See the caveats in the documentation: https://pandas.pydata.org/pandas-docs/stable/user_guide/indexing.html#returning-a-view-versus-a-copy\n",
      "/usr/local/lib/python3.6/dist-packages/ipykernel_launcher.py:27: SettingWithCopyWarning: \n",
      "A value is trying to be set on a copy of a slice from a DataFrame\n",
      "\n",
      "See the caveats in the documentation: https://pandas.pydata.org/pandas-docs/stable/user_guide/indexing.html#returning-a-view-versus-a-copy\n",
      "/usr/local/lib/python3.6/dist-packages/ipykernel_launcher.py:28: SettingWithCopyWarning: \n",
      "A value is trying to be set on a copy of a slice from a DataFrame\n",
      "\n",
      "See the caveats in the documentation: https://pandas.pydata.org/pandas-docs/stable/user_guide/indexing.html#returning-a-view-versus-a-copy\n"
     ]
    }
   ],
   "source": [
    "from Bio.SeqUtils.ProtParam import ProteinAnalysis\n",
    "import numpy as np\n",
    "file1 = 'For_Diversity_and_Novelty/gcWGAN_Fasta_100_success_nov.csv'\n",
    "\n",
    "df = pd.read_csv(file1, index_col=None, header=0)\n",
    "\n",
    "#random!!!!!!\n",
    "# sequence = []\n",
    "# for i in range(100):\n",
    "#     sequence.append(generateOneRandomSequence()[0])\n",
    "# df['SequenceID'] = sequence\n",
    "#####\n",
    "df['Instability'] = None\n",
    "df['Flexibility'] = None\n",
    "df['GRAVY'] = None\n",
    "df['Isoelectric Point'] = None\n",
    "df['Normalized Molecular Weight'] = None\n",
    "df['Aromaticity'] = None\n",
    "\n",
    "\n",
    "for i in range(len(df)):\n",
    "    X = ProteinAnalysis(df['SequenceID'][i])\n",
    "    df['Instability'][i] = X.instability_index()\n",
    "    df['Flexibility'][i] = np.mean(X.flexibility())\n",
    "    df['GRAVY'][i] = X.gravy()\n",
    "    df['Isoelectric Point'][i] = X.isoelectric_point()\n",
    "    df['Aromaticity'][i] = X.aromaticity()\n",
    "    df['Normalized Molecular Weight'][i] = X.molecular_weight()/len(df['SequenceID'][i])\n",
    "\n",
    "df.to_csv('For_Diversity_and_Novelty/gcWGAN_Fasta_100_success_nov_features.csv')"
   ]
  },
  {
   "cell_type": "code",
   "execution_count": 119,
   "metadata": {},
   "outputs": [
    {
     "data": {
      "text/plain": [
       "<AxesSubplot:xlabel='aromaticity', ylabel='Density'>"
      ]
     },
     "execution_count": 119,
     "metadata": {},
     "output_type": "execute_result"
    },
    {
     "data": {
      "image/png": "[encoded data removed]",
      "text/plain": [
       "<Figure size 432x288 with 1 Axes>"
      ]
     },
     "metadata": {
      "needs_background": "light"
     },
     "output_type": "display_data"
    }
   ],
   "source": [
    "file_success = 'gcWGAN_Fasta_100_success_nov_features.csv'\n",
    "df1 = pd.read_csv(file_success, index_col=None, header=0)\n",
    "file_random = 'gcWGAN_Fasta_100_random_anything_features.csv'\n",
    "df2 = pd.read_csv(file_random, index_col=None, header=0)\n",
    "import seaborn as sns\n",
    "sns.kdeplot(df1['aromaticity'])\n",
    "sns.kdeplot(df2['aromaticity'])\n"
   ]
  },
  {
   "cell_type": "code",
   "execution_count": 75,
   "metadata": {},
   "outputs": [],
   "source": [
    "import numpy as np\n",
    "import os\n",
    "import logging\n",
    "\n",
    "\n",
    "# characters to integers\n",
    "def aa2idx(seq):\n",
    "    # convert letters into numbers\n",
    "    abc = np.array(list(\"ARNDCQEGHILKMFPSTWYV-\"), dtype='|S1').view(np.uint8)\n",
    "    idx = np.array(list(seq), dtype='|S1').view(np.uint8)\n",
    "    for i in range(abc.shape[0]):\n",
    "        idx[idx == abc[i]] = i\n",
    "\n",
    "    # treat all unknown characters as gaps\n",
    "    idx[idx > 20] = 20\n",
    "    return idx\n",
    "\n",
    "# integers back to sequence:\n",
    "def idx2aa(idx):\n",
    "    abc=np.array(list(\"ARNDCQEGHILKMFPSTWYV\"))\n",
    "    return(\"\".join(list(abc[idx])))\n",
    "\n",
    "\n",
    "# generate one random sequence\n",
    "def generateOneRandomSequence(lenSeq = 121, removeAA = \"CW\"):\n",
    "    aa_valid = np.arange(20)\n",
    "    aa_skip = aa2idx(removeAA)\n",
    "    aa_valid = np.setdiff1d(aa_valid, aa_skip)\n",
    "    rand_idx = np.random.choice(aa_valid, lenSeq)\n",
    "#     rand_seq = 'VDNAYPFMNLYITLEINIDDSPKMNYYNEYRTDFRMHYQLYDGTHRGKVR'\n",
    "#     rand_idx = aa2idx(rand_seq)\n",
    "    rand_seq = idx2aa(rand_idx)\n",
    "    return rand_seq, rand_idx.reshape(1, -1), aa_valid"
   ]
  },
  {
   "cell_type": "code",
   "execution_count": 172,
   "metadata": {},
   "outputs": [
    {
     "name": "stderr",
     "output_type": "stream",
     "text": [
      "/usr/local/lib/python3.6/dist-packages/seaborn/distributions.py:2557: FutureWarning: `distplot` is a deprecated function and will be removed in a future version. Please adapt your code to use either `displot` (a figure-level function with similar flexibility) or `histplot` (an axes-level function for histograms).\n",
      "  warnings.warn(msg, FutureWarning)\n",
      "/usr/local/lib/python3.6/dist-packages/seaborn/distributions.py:2557: FutureWarning: `distplot` is a deprecated function and will be removed in a future version. Please adapt your code to use either `displot` (a figure-level function with similar flexibility) or `histplot` (an axes-level function for histograms).\n",
      "  warnings.warn(msg, FutureWarning)\n",
      "/usr/local/lib/python3.6/dist-packages/seaborn/distributions.py:2557: FutureWarning: `distplot` is a deprecated function and will be removed in a future version. Please adapt your code to use either `displot` (a figure-level function with similar flexibility) or `histplot` (an axes-level function for histograms).\n",
      "  warnings.warn(msg, FutureWarning)\n"
     ]
    },
    {
     "name": "stdout",
     "output_type": "stream",
     "text": [
      "42.864331404958676\n",
      "38.50797856286248\n",
      "41.60557768595041\n",
      "11.223069683506294\n",
      "9.26969528475758\n",
      "9.5260654880134\n",
      "26.708264462809904\n"
     ]
    },
    {
     "data": {
      "image/png": "[encoded data removed]",
      "text/plain": [
       "<Figure size 432x288 with 1 Axes>"
      ]
     },
     "metadata": {
      "needs_background": "light"
     },
     "output_type": "display_data"
    }
   ],
   "source": [
    "file_success = 'For_Diversity_and_Novelty/gcWGAN_Fasta_100_success_nov_features.csv'\n",
    "df1 = pd.read_csv(file_success, index_col=None, header=0)\n",
    "file_random = 'For_Diversity_and_Novelty/gcWGAN_Fasta_100_random_anything_features.csv'\n",
    "df2 = pd.read_csv(file_random, index_col=None, header=0)\n",
    "file_AFF = 'For_Diversity_and_Novelty/AFF_JCIMfold_features.csv'\n",
    "df3 = pd.read_csv(file_AFF, index_col=None, header=0)\n",
    "import seaborn as sns\n",
    "test = 'Instability'\n",
    "X = ProteinAnalysis('MKHHHHHHPMSDYDIPTTENLYFQGAMGGQETLNGALVNMLKEEGNKALSVGNIDDALQYYAAAITLDKYPHKIKSGAEAKKLPGVGTKIAEKIDEFLATGKLRKLEKIRQDDTSSSINFL')\n",
    "sns.distplot(df2[test],label = 'random')\n",
    "sns.distplot(df1[test],label = 'gcWGAN')\n",
    "figure = sns.distplot(df3[test],label = 'AFF')\n",
    "figure.legend()\n",
    "figure.axvline(x=X.instability_index(),color='red',linestyle='--')\n",
    "figure.get_figure().savefig(test+'.jpg')\n",
    "\n",
    "print(np.mean(df2[test]))\n",
    "print(np.mean(df1[test]))\n",
    "print(np.mean(df3[test]))\n",
    "print(np.std(df2[test]))\n",
    "print(np.std(df1[test]))\n",
    "print(np.std(df3[test]))\n",
    "print(X.instability_index())\n",
    "#     df['flexible'][i] = np.mean(X.flexibility())\n",
    "#     df['gravy'][i] = X.gravy()\n",
    "#     df['isoelectric_point'][i] = X.isoelectric_point()\n",
    "#     df['norm_mol_weight'][i] = X.instability_index()\n",
    "#     df['aromaticity'][i] = X.molecular_weight()/len(df['SequenceID'][i])"
   ]
  },
  {
   "cell_type": "code",
   "execution_count": 177,
   "metadata": {},
   "outputs": [
    {
     "name": "stdout",
     "output_type": "stream",
     "text": [
      "153\n",
      "143\n",
      "156\n",
      "143\n",
      "146\n",
      "149\n",
      "153\n",
      "146\n",
      "146\n",
      "159\n",
      "158\n",
      "148\n",
      "145\n",
      "158\n",
      "151\n",
      "151\n",
      "143\n",
      "154\n",
      "146\n",
      "157\n",
      "147\n",
      "153\n",
      "144\n",
      "150\n",
      "159\n",
      "150\n",
      "145\n",
      "146\n",
      "157\n",
      "151\n",
      "148\n",
      "147\n",
      "155\n",
      "160\n",
      "158\n",
      "147\n",
      "146\n",
      "150\n",
      "152\n",
      "150\n",
      "155\n",
      "149\n",
      "152\n",
      "150\n",
      "159\n",
      "158\n",
      "151\n",
      "145\n",
      "158\n",
      "160\n",
      "155\n",
      "151\n",
      "160\n",
      "143\n",
      "158\n",
      "142\n",
      "152\n",
      "154\n",
      "152\n",
      "151\n",
      "142\n",
      "143\n",
      "146\n",
      "148\n",
      "157\n",
      "151\n",
      "154\n",
      "145\n",
      "152\n",
      "150\n",
      "151\n",
      "159\n",
      "146\n",
      "150\n",
      "151\n",
      "153\n",
      "153\n",
      "144\n",
      "156\n",
      "153\n",
      "159\n",
      "159\n",
      "155\n",
      "144\n",
      "142\n",
      "156\n",
      "148\n",
      "151\n",
      "149\n",
      "157\n",
      "146\n",
      "157\n",
      "153\n",
      "158\n",
      "155\n",
      "157\n",
      "160\n",
      "148\n",
      "145\n",
      "157\n"
     ]
    }
   ],
   "source": [
    "for i in range(100):\n",
    "    print(len(df1['SequenceID'][i]))"
   ]
  }
 ],
 "metadata": {
  "kernelspec": {
   "display_name": "Python 3",
   "language": "python",
   "name": "python3"
  },
  "language_info": {
   "codemirror_mode": {
    "name": "ipython",
    "version": 3
   },
   "file_extension": ".py",
   "mimetype": "text/x-python",
   "name": "python",
   "nbconvert_exporter": "python",
   "pygments_lexer": "ipython3",
   "version": "3.6.8"
  }
 },
 "nbformat": 4,
 "nbformat_minor": 4
}
