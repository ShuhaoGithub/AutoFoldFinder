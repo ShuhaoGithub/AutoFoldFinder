{
 "cells": [
  {
   "cell_type": "markdown",
   "metadata": {},
   "source": [
    "This tutorial can guide you through the whole process of producing this paper.\n",
    "We first generate the baseline.(exp3)"
   ]
  },
  {
   "cell_type": "code",
   "execution_count": null,
   "metadata": {},
   "outputs": [],
   "source": [
    "%%time\n",
    "gpuID= \"0\"\n",
    "expName = \"exp3\"\n",
    "tryNum = 50\n",
    "outputFile = \"output_exp3_c1.log\"\n",
    "debugMode=\"False\"\n",
    "\n",
    "!rm -rf {outputFile}\n",
    "for i in range(tryNum):\n",
    "    !CUDA_VISIBLE_DEVICES={gpuID} python main_pipe.py --exp_name {expName} --debug {debugMode} >> {outputFile}"
   ]
  },
  {
   "cell_type": "markdown",
   "metadata": {},
   "source": [
    "Then generated results are compared with PDB representatives."
   ]
  },
  {
   "cell_type": "code",
   "execution_count": null,
   "metadata": {},
   "outputs": [],
   "source": [
    "!python main_module_tmalign_local.py --exp_num exp3 --core_num 1"
   ]
  },
  {
   "cell_type": "markdown",
   "metadata": {},
   "source": [
    "Several 'attractive' PDBs are chosen and their mimetics' distance maps and tortion angle maps are set as references to be distanced in the optimization process. (exp34-37&215-222)"
   ]
  },
  {
   "cell_type": "code",
   "execution_count": null,
   "metadata": {},
   "outputs": [],
   "source": [
    "%%time\n",
    "gpuID= \"0\"\n",
    "expName = \"exp210\"\n",
    "tryNum = 50\n",
    "outputFile = \"output_exp210_c1.log\"\n",
    "debugMode=\"False\"\n",
    "\n",
    "!rm -rf {outputFile}\n",
    "for i in range(tryNum):\n",
    "    !CUDA_VISIBLE_DEVICES={gpuID} python main_pipe_AFF.py --exp_name {expName} --debug {debugMode} >> {outputFile}"
   ]
  },
  {
   "cell_type": "markdown",
   "metadata": {},
   "source": [
    "Then we add CM-align into our system.(exp100-104)"
   ]
  },
  {
   "cell_type": "code",
   "execution_count": null,
   "metadata": {},
   "outputs": [],
   "source": [
    "%%time\n",
    "gpuID= \"0\"\n",
    "expName = \"exp100\"\n",
    "tryNum = 50\n",
    "outputFile = \"output_exp100_c1.log\"\n",
    "debugMode=\"False\"\n",
    "\n",
    "!rm -rf {outputFile}\n",
    "for i in range(tryNum):\n",
    "    !CUDA_VISIBLE_DEVICES={gpuID} python main_pipe2_parallel.py --exp_name {expName} --debug {debugMode} >> {outputFile}"
   ]
  },
  {
   "cell_type": "markdown",
   "metadata": {},
   "source": [
    "With all data collected, we can summarize and compare them together using TM_drawing.ipynb. Secondary structure is calculated using pdb2dssp.ipynb.\n",
    "For the last experiment where we compare our model with gcWGAN,we can use the following code."
   ]
  },
  {
   "cell_type": "code",
   "execution_count": null,
   "metadata": {},
   "outputs": [],
   "source": [
    "%%time\n",
    "gpuID= \"0\"\n",
    "expName = \"exp206\"\n",
    "tryNum = 50\n",
    "outputFile = \"output_exp206_c1.log\"\n",
    "debugMode=\"False\"\n",
    "\n",
    "!rm -rf {outputFile}\n",
    "for i in range(tryNum):\n",
    "    !CUDA_VISIBLE_DEVICES={gpuID} python main_pipe_AFF_close.py --exp_name {expName} --debug {debugMode} >> {outputFile}"
   ]
  },
  {
   "cell_type": "markdown",
   "metadata": {},
   "source": [
    "So far we generated all our data used for this paper. Subsequent analysis can refer to cluster.ipynb TM_drawing.ipynb compared_with_gcWGAN.ipynb"
   ]
  },
  {
   "cell_type": "code",
   "execution_count": null,
   "metadata": {},
   "outputs": [],
   "source": []
  },
  {
   "cell_type": "code",
   "execution_count": null,
   "metadata": {},
   "outputs": [],
   "source": []
  },
  {
   "cell_type": "code",
   "execution_count": null,
   "metadata": {},
   "outputs": [],
   "source": []
  }
 ],
 "metadata": {
  "kernelspec": {
   "display_name": "Python 3",
   "language": "python",
   "name": "python3"
  },
  "language_info": {
   "codemirror_mode": {
    "name": "ipython",
    "version": 3
   },
   "file_extension": ".py",
   "mimetype": "text/x-python",
   "name": "python",
   "nbconvert_exporter": "python",
   "pygments_lexer": "ipython3",
   "version": "3.6.8"
  }
 },
 "nbformat": 4,
 "nbformat_minor": 4
}
